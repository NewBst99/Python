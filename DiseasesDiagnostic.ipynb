{
 "cells": [
  {
   "cell_type": "code",
   "execution_count": 1,
   "metadata": {},
   "outputs": [
    {
     "name": "stdout",
     "output_type": "stream",
     "text": [
      "증상 : ['발열'] ==> 진단결과 : 진단할 수 없습니다\n",
      "\n",
      "증상 : ['두통'] ==> 진단결과 : 진단할 수 없습니다\n",
      "\n",
      "증상 : ['발열', '기침'] ==> 진단결과 : 독감 \n",
      "\n",
      "증상 : ['발열', '피로'] ==> 진단결과 : 말라리아 \n",
      "\n",
      "증상 : ['두통', '미각손실'] ==> 진단결과 : 코로나19 \n",
      "\n",
      "증상 : ['발열', '기침', '피로'] ==> 진단결과 : 독감 말라리아 \n",
      "\n",
      "증상 : ['발열', '기침', '두통', '미각손실'] ==> 진단결과 : 독감 코로나19 \n",
      "\n",
      "증상 : ['발열', '피로', '두통', '미각손실'] ==> 진단결과 : 말라리아 코로나19 \n",
      "\n",
      "증상 : ['발열', '기침', '피로', '두통', '미각손실'] ==> 진단결과 : 독감 말라리아 코로나19 \n",
      "\n",
      "증상 : ['발열', '기침', '미각손실'] ==> 진단결과 : 독감 \n",
      "\n",
      "증상 : ['발열', '피로', '미각손실'] ==> 진단결과 : 말라리아 \n",
      "\n",
      "증상 : ['두통', '미각손실', '발열'] ==> 진단결과 : 코로나19 \n",
      "\n",
      "증상 : ['발열', '기침', '피로', '미각손실'] ==> 진단결과 : 독감 말라리아 \n",
      "\n",
      "잘못된 입력입니다. 다시 입력하세요\n",
      "\n"
     ]
    }
   ],
   "source": [
    "def symptom():\n",
    "    list_sym = input(\"증상을 입력하세요\").split()\n",
    "    while(len(list_sym) > 5 or len(list_sym) == 0):\n",
    "        print(\"잘못된 입력입니다. 다시 입력하세요\\n\")\n",
    "        list_sym = input(\"증상을 입력하세요\").split()\n",
    "    return list_sym\n",
    "\n",
    "def doctor(list_sym):\n",
    "    disease = \"\"\n",
    "    if(\"발열\" in list_sym and \"기침\" in list_sym):\n",
    "        disease += \"독감 \"\n",
    "    if(\"발열\" in list_sym and \"피로\" in list_sym):\n",
    "        disease += \"말라리아 \"\n",
    "    if(\"두통\" in list_sym and \"미각손실\" in list_sym):\n",
    "        disease += \"코로나19 \"\n",
    "    if(disease == \"\"):\n",
    "        disease = \"진단할 수 없습니다\"\n",
    "    return disease\n",
    "            \n",
    "def diagnosis(list_sym):\n",
    "    result = doctor(list_sym)\n",
    "    print(f\"증상 : {list_sym} ==> 진단결과 : {result}\\n\")\n",
    "\n",
    "\n",
    "patient_sym = symptom()\n",
    "diagnosis(patient_sym)"
   ]
  },
  {
   "cell_type": "code",
   "execution_count": null,
   "metadata": {},
   "outputs": [],
   "source": []
  }
 ],
 "metadata": {
  "kernelspec": {
   "display_name": "base",
   "language": "python",
   "name": "python3"
  },
  "language_info": {
   "codemirror_mode": {
    "name": "ipython",
    "version": 3
   },
   "file_extension": ".py",
   "mimetype": "text/x-python",
   "name": "python",
   "nbconvert_exporter": "python",
   "pygments_lexer": "ipython3",
   "version": "3.11.4"
  }
 },
 "nbformat": 4,
 "nbformat_minor": 2
}
